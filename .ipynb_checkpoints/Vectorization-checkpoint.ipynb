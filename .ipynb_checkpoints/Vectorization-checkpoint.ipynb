{
 "cells": [
  {
   "cell_type": "code",
   "execution_count": 6,
   "metadata": {},
   "outputs": [
    {
     "name": "stdout",
     "output_type": "stream",
     "text": [
      "[1 2 3 4]\n"
     ]
    }
   ],
   "source": [
    "import numpy as np\n",
    "\n",
    "a = np.array([1,2,3,4])\n",
    "print(a)"
   ]
  },
  {
   "cell_type": "code",
   "execution_count": 11,
   "metadata": {},
   "outputs": [
    {
     "name": "stdout",
     "output_type": "stream",
     "text": [
      "Vectorized version: 0.804901123046875ms\n",
      "c = 250210.56509173688\n",
      "\n",
      "For loop: 540.4620170593262ms\n",
      "c = 250210.56509173563\n"
     ]
    }
   ],
   "source": [
    "# Vectorization vs for loop for dot product of two vectors\n",
    "\n",
    "import time\n",
    "\n",
    "a = np.random.rand(1000000)\n",
    "b = np.random.rand(1000000)\n",
    "\n",
    "tic = time.time()\n",
    "c = np.dot(a, b)\n",
    "toc = time.time()\n",
    "\n",
    "print(\"Vectorized version: {}ms\".format(1000*(toc-tic)))\n",
    "print(\"c = {}\\n\".format(c))\n",
    "\n",
    "\n",
    "c = 0\n",
    "tic = time.time()\n",
    "for i in range(1000000):\n",
    "    c += a[i]*b[i]\n",
    "toc = time.time()\n",
    "\n",
    "print(\"For loop: {}ms\".format(1000*(toc-tic)))\n",
    "print(\"c = {}\".format(c))"
   ]
  },
  {
   "cell_type": "code",
   "execution_count": 16,
   "metadata": {},
   "outputs": [
    {
     "name": "stdout",
     "output_type": "stream",
     "text": [
      "Vectorized version: 9.283065795898438ms\n",
      "a = [0.40375055 0.09919652 0.92307617 ... 0.50214618 0.42153058 0.92803841]\n",
      "b = [1.49743037 1.1042833  2.51702128 ... 1.65226352 1.52429282 2.52954239]\n",
      "\n",
      "For loop version: 343.2190418243408ms\n",
      "a = [0.40375055 0.09919652 0.92307617 ... 0.50214618 0.42153058 0.92803841]\n",
      "b = [1.49743037 1.1042833  2.51702128 ... 1.65226352 1.52429282 2.52954239]\n"
     ]
    }
   ],
   "source": [
    "# Vectorization vs for loop for exponential operation on all elements of a vector\n",
    "\n",
    "import math\n",
    "\n",
    "a = np.random.rand(1000000)\n",
    "\n",
    "tic = time.time()\n",
    "b = np.exp(a)\n",
    "toc = time.time()\n",
    "\n",
    "print(\"Vectorized version: {}ms\".format(1000*(toc-tic)))\n",
    "print(\"a = {}\".format(a))\n",
    "print(\"b = {}\\n\".format(b))\n",
    "\n",
    "b = np.zeros(1000000)\n",
    "\n",
    "tic = time.time()\n",
    "for i in range(1000000):\n",
    "    b[i] = math.exp(a[i])\n",
    "toc = time.time()\n",
    "\n",
    "print(\"For loop version: {}ms\".format(1000*(toc-tic)))\n",
    "print(\"a = {}\".format(a))\n",
    "print(\"b = {}\".format(b))"
   ]
  }
 ],
 "metadata": {
  "kernelspec": {
   "display_name": "Python 3",
   "language": "python",
   "name": "python3"
  },
  "language_info": {
   "codemirror_mode": {
    "name": "ipython",
    "version": 3
   },
   "file_extension": ".py",
   "mimetype": "text/x-python",
   "name": "python",
   "nbconvert_exporter": "python",
   "pygments_lexer": "ipython3",
   "version": "3.7.4"
  }
 },
 "nbformat": 4,
 "nbformat_minor": 2
}
